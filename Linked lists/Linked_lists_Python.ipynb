{
 "cells": [
  {
   "cell_type": "markdown",
   "id": "39dd14ae-0614-4525-a7ad-1930ee1da474",
   "metadata": {},
   "source": [
    "## problem statement\n",
    "\n",
    "You are given two non-empty linked lists representing two non-negative integers. The digits are stored in reverse order, and each of their nodes contains a single digit. Add the two numbers and return the sum as a linked list.\n",
    "\n",
    "You may assume the two numbers do not contain any leading zero, except the number 0 itself.\n",
    "\n",
    "Input: l1 = [2,4,3], l2 = [5,6,4]\n",
    "Output: [7,0,8]\n",
    "Explanation: 342 + 465 = 807.\n",
    "\n",
    "Example 2:\n",
    "\n",
    "Input: l1 = [0], l2 = [0]\n",
    "Output: [0]\n",
    "\n",
    "Example 3:\n",
    "\n",
    "Input: l1 = [9,9,9,9,9,9,9], l2 = [9,9,9,9]\n",
    "Output: [8,9,9,9,0,0,0,1]\n",
    "\n",
    " \n",
    "\n",
    "Constraints:\n",
    "\n",
    "    The number of nodes in each linked list is in the range [1, 100].\n",
    "    0 <= Node.val <= 9\n",
    "    It is guaranteed that the list represents a number that does not have leading zeros.\n"
   ]
  },
  {
   "cell_type": "markdown",
   "id": "63aedb84-1293-434e-8091-4f9240db98df",
   "metadata": {},
   "source": [
    "This is a simple problem to address, as we need to do simple addition like we used to do in schools!! \n",
    "so we have to carry out node by node addition, we will do it through iteration, recursion can also be used for the same!\n"
   ]
  },
  {
   "cell_type": "markdown",
   "id": "46330bf0-cb8f-4457-91ed-cbcee812820d",
   "metadata": {},
   "source": [
    "The python implementation of linked list is a class.\n",
    "\n",
    "## linked list- has nodes\n",
    "Each node has2 elements:\n",
    "data-aka head (value at that node) and a reference to another node- aka next.\n",
    "\n",
    "It is a type of linear data structure much similar to arrays. \n",
    "More like a ollection of nodes that are linked with each other. \n",
    "Lets first see how to create linked lists!\n",
    "we will first create a class named node to initialize data and next value.\n",
    "Then we will make a linked list class to fill in values"
   ]
  },
  {
   "cell_type": "code",
   "execution_count": 1,
   "id": "81149e4b-d047-414c-8ec7-3b8dfa5ca3ca",
   "metadata": {},
   "outputs": [],
   "source": [
    "#Each Node stores the data and a pointer to the next node.\n",
    "class node():\n",
    "    def __init__(self, data):\n",
    "        self.data = data\n",
    "        self.next = None\n",
    "        "
   ]
  },
  {
   "cell_type": "code",
   "execution_count": 7,
   "id": "1304d559-4447-4275-81b0-669886f36b93",
   "metadata": {},
   "outputs": [],
   "source": [
    "#This will manage the list: insert, delete, traverse, etc.\n",
    "class Linked_list():\n",
    "    def __init__(self):\n",
    "        self.head = None # this is the first node for our list\n",
    "        \n",
    "    def append(self, data):\n",
    "        new_node = node(data)\n",
    "        if not self.head:\n",
    "            self.head = new_node\n",
    "            return\n",
    "        last =self.head\n",
    "\n",
    "        while last.next:\n",
    "            last = last.next \n",
    "\n",
    "        last.next = new_node\n",
    "\n",
    "    def prepend(self,data):\n",
    "        new_node = node(data)\n",
    "        new_node.next = self.head\n",
    "        self.head = new_node\n",
    "\n",
    "    def delete(self,data):\n",
    "        current = self.head\n",
    "        if not current:\n",
    "            return\n",
    "        # if node to be deleted is head:\n",
    "        if current.data == data:\n",
    "            self.head = current.next\n",
    "            return\n",
    "        prev = None\n",
    "        while current.data != data:\n",
    "            prev = current\n",
    "            current = current.next\n",
    "        if current: # we found the node and current now has None\n",
    "            prev.next = current.next\n",
    "\n",
    "    def search(self, data):\n",
    "        current = self.head\n",
    "        while current:\n",
    "            if current.data == data:\n",
    "                return True\n",
    "            current = current.next\n",
    "        return False\n",
    "\n",
    "    def length(self):\n",
    "        count = 0\n",
    "        current = self.head\n",
    "        while current:\n",
    "            count+=1\n",
    "            current = current.next\n",
    "        return count\n",
    "\n",
    "    def print_list(self):\n",
    "        current = self.head\n",
    "        while current:\n",
    "            print(current.data, end='->')\n",
    "            current = current.next\n",
    "        print(None)"
   ]
  },
  {
   "cell_type": "code",
   "execution_count": 8,
   "id": "f77da280-7730-4837-bff2-9e06f167d127",
   "metadata": {},
   "outputs": [
    {
     "name": "stdout",
     "output_type": "stream",
     "text": [
      "Initial list:\n",
      "10->20->30->None\n",
      "\n",
      "After prepending 5:\n",
      "5->10->20->30->None\n",
      "\n",
      "After deleting 20:\n",
      "5->10->30->None\n",
      "\n",
      "Searching for 30: True\n",
      "Searching for 100: False\n",
      "\n",
      "Length of list: 3\n"
     ]
    }
   ],
   "source": [
    "# Create linked list\n",
    "ll = Linked_list()\n",
    "ll.append(10)\n",
    "ll.append(20)\n",
    "ll.append(30)\n",
    "print(\"Initial list:\")\n",
    "ll.print_list()\n",
    "\n",
    "# Prepend 5\n",
    "ll.prepend(5)\n",
    "print(\"\\nAfter prepending 5:\")\n",
    "ll.print_list()\n",
    "\n",
    "# Delete 20\n",
    "ll.delete(20)\n",
    "print(\"\\nAfter deleting 20:\")\n",
    "ll.print_list()\n",
    "\n",
    "# Search 30\n",
    "print(\"\\nSearching for 30:\", ll.search(30))  # True\n",
    "print(\"Searching for 100:\", ll.search(100))  # False\n",
    "\n",
    "# Length\n",
    "print(\"\\nLength of list:\", ll.length())"
   ]
  },
  {
   "cell_type": "code",
   "execution_count": 17,
   "id": "01b34786-e28d-45ec-a215-7f2ed68c04c0",
   "metadata": {},
   "outputs": [
    {
     "name": "stdout",
     "output_type": "stream",
     "text": [
      "1 7\n"
     ]
    }
   ],
   "source": [
    "t  = 17\n",
    "print(t//10, t%10)"
   ]
  },
  {
   "cell_type": "markdown",
   "id": "3eabede9-fa63-46ca-a187-e2b5c3103e22",
   "metadata": {},
   "source": [
    "## solution of the problem at hand"
   ]
  },
  {
   "cell_type": "code",
   "execution_count": 19,
   "id": "7c5736cc-067e-44c1-997f-47db5201f03b",
   "metadata": {},
   "outputs": [],
   "source": [
    "class node:\n",
    "    def __init__(self, data=0, next=None):\n",
    "        self.head = data\n",
    "        self.next = next\n",
    "\n",
    "    def addition(self, l1,l2):\n",
    "        new_node = node()\n",
    "        current = new_node\n",
    "        carry = 0\n",
    "\n",
    "        while l1 or l2 or carry:\n",
    "            l1_val = l1.data if l1 else 0\n",
    "            l2_val = l2.data if l2 else 0\n",
    "            total = l1_val+l2_val+carry\n",
    "            digit_elem = total%10\n",
    "            carry = total//10\n",
    "            current.next = node(digit_elem)\n",
    "            current = current.next\n",
    "\n",
    "            if l1:\n",
    "                l1 = l1.next\n",
    "\n",
    "            if l2:\n",
    "                l2 = l2.next\n",
    "\n",
    "        return new_node.next"
   ]
  },
  {
   "cell_type": "code",
   "execution_count": null,
   "id": "07c7849d-c042-43fd-8e84-4695c622b77e",
   "metadata": {},
   "outputs": [],
   "source": [
    "# Definition for singly-linked list.\n",
    "# class ListNode(object):\n",
    "#     def __init__(self, val=0, next=None):\n",
    "#         self.val = val\n",
    "#         self.next = next\n",
    "\n",
    "class Solution(object):\n",
    "    def addTwoNumbers(self, l1, l2):\n",
    "        \"\"\"\n",
    "        :type l1: Optional[ListNode]\n",
    "        :type l2: Optional[ListNode]\n",
    "        :rtype: Optional[ListNode]\n",
    "        \"\"\"\n",
    "        dummy_head = ListNode(0)  \n",
    "        current = dummy_head\n",
    "        carry = 0\n",
    "\n",
    "        \n",
    "        while l1 or l2 or carry:\n",
    "            val1 = l1.val if l1 else 0  \n",
    "            val2 = l2.val if l2 else 0  \n",
    "\n",
    "            total = val1 + val2 + carry\n",
    "            carry = total // 10  \n",
    "            digit = total % 10   \n",
    "\n",
    "            \n",
    "            current.next = ListNode(digit)\n",
    "            current = current.next\n",
    "\n",
    "            \n",
    "            if l1:\n",
    "                l1 = l1.next\n",
    "            if l2:\n",
    "                l2 = l2.next\n",
    "\n",
    "        return dummy_head.next  \n"
   ]
  },
  {
   "cell_type": "code",
   "execution_count": null,
   "id": "f51fe703-4317-4cab-be58-3ad7689ab01f",
   "metadata": {},
   "outputs": [],
   "source": [
    "\n",
    " "
   ]
  }
 ],
 "metadata": {
  "kernelspec": {
   "display_name": "Python 3 (ipykernel)",
   "language": "python",
   "name": "python3"
  },
  "language_info": {
   "codemirror_mode": {
    "name": "ipython",
    "version": 3
   },
   "file_extension": ".py",
   "mimetype": "text/x-python",
   "name": "python",
   "nbconvert_exporter": "python",
   "pygments_lexer": "ipython3",
   "version": "3.9.21"
  }
 },
 "nbformat": 4,
 "nbformat_minor": 5
}
