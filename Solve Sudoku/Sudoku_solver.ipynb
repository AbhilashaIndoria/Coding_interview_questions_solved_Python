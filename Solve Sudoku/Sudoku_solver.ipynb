{
 "cells": [
  {
   "cell_type": "markdown",
   "id": "90a6b3f9-060e-49d7-bae7-6a17665b882f",
   "metadata": {},
   "source": [
    "Write a program to solve a Sudoku puzzle by filling the empty cells.\n",
    "\n",
    "A sudoku solution must satisfy all of the following rules:\n",
    "\n",
    "    Each of the digits 1-9 must occur exactly once in each row.\n",
    "    Each of the digits 1-9 must occur exactly once in each column.\n",
    "    Each of the digits 1-9 must occur exactly once in each of the 9 3x3 sub-boxes of the grid.\n",
    "\n",
    "The '.' character indicates empty cells.\n",
    "\n",
    " \n",
    "\n",
    "Example 1:\n",
    "\n",
    "Input: board = [[\"5\",\"3\",\".\",\".\",\"7\",\".\",\".\",\".\",\".\"],[\"6\",\".\",\".\",\"1\",\"9\",\"5\",\".\",\".\",\".\"],[\".\",\"9\",\"8\",\".\",\".\",\".\",\".\",\"6\",\".\"],[\"8\",\".\",\".\",\".\",\"6\",\".\",\".\",\".\",\"3\"],[\"4\",\".\",\".\",\"8\",\".\",\"3\",\".\",\".\",\"1\"],[\"7\",\".\",\".\",\".\",\"2\",\".\",\".\",\".\",\"6\"],[\".\",\"6\",\".\",\".\",\".\",\".\",\"2\",\"8\",\".\"],[\".\",\".\",\".\",\"4\",\"1\",\"9\",\".\",\".\",\"5\"],[\".\",\".\",\".\",\".\",\"8\",\".\",\".\",\"7\",\"9\"]]\n",
    "Output: [[\"5\",\"3\",\"4\",\"6\",\"7\",\"8\",\"9\",\"1\",\"2\"],[\"6\",\"7\",\"2\",\"1\",\"9\",\"5\",\"3\",\"4\",\"8\"],[\"1\",\"9\",\"8\",\"3\",\"4\",\"2\",\"5\",\"6\",\"7\"],[\"8\",\"5\",\"9\",\"7\",\"6\",\"1\",\"4\",\"2\",\"3\"],[\"4\",\"2\",\"6\",\"8\",\"5\",\"3\",\"7\",\"9\",\"1\"],[\"7\",\"1\",\"3\",\"9\",\"2\",\"4\",\"8\",\"5\",\"6\"],[\"9\",\"6\",\"1\",\"5\",\"3\",\"7\",\"2\",\"8\",\"4\"],[\"2\",\"8\",\"7\",\"4\",\"1\",\"9\",\"6\",\"3\",\"5\"],[\"3\",\"4\",\"5\",\"2\",\"8\",\"6\",\"1\",\"7\",\"9\"]]\n",
    "\n",
    "\n",
    "Output: [[\"5\",\"3\",\"4\",\"6\",\"7\",\"8\",\"9\",\"1\",\"2\"],[\"6\",\"7\",\"2\",\"1\",\"9\",\"5\",\"3\",\"4\",\"8\"],[\"1\",\"9\",\"8\",\"3\",\"4\",\"2\",\"5\",\"6\",\"7\"],[\"8\",\"5\",\"9\",\"7\",\"6\",\"1\",\"4\",\"2\",\"3\"],[\"4\",\"2\",\"6\",\"8\",\"5\",\"3\",\"7\",\"9\",\"1\"],[\"7\",\"1\",\"3\",\"9\",\"2\",\"4\",\"8\",\"5\",\"6\"],[\"9\",\"6\",\"1\",\"5\",\"3\",\"7\",\"2\",\"8\",\"4\"],[\"2\",\"8\",\"7\",\"4\",\"1\",\"9\",\"6\",\"3\",\"5\"],[\"3\",\"4\",\"5\",\"2\",\"8\",\"6\",\"1\",\"7\",\"9\"]]\n",
    "Explanation: The input board is shown above and the only valid solution is shown below:\n",
    "\n",
    "\n",
    "Constraints:\n",
    "\n",
    "    board.length == 9\n",
    "    board[i].length == 9\n",
    "    board[i][j] is a digit or '.'.\n",
    "    It is guaranteed that the input board has only one solution.\n"
   ]
  },
  {
   "cell_type": "markdown",
   "id": "fa8724bc-acc9-4f86-88b2-8407462f2bfe",
   "metadata": {},
   "source": [
    "## Hint\n",
    "As asked in the question above we need a helper function that will check the given conditions \n",
    "for us, i.e; no repetition in the column, no repetition in the row and no repetition in the grid.\n",
    "If this condistion is satisfied go ahead and fill the digit :)"
   ]
  },
  {
   "cell_type": "code",
   "execution_count": 49,
   "id": "f3f60468-d0e7-44f5-84b2-090741d4eac6",
   "metadata": {},
   "outputs": [],
   "source": [
    "input_board = [[\"5\",\"3\",\".\",\".\",\"7\",\".\",\".\",\".\",\".\"],[\"6\",\".\",\".\",\"1\",\"9\",\"5\",\".\",\".\",\".\"],\n",
    "               [\".\",\"9\",\"8\",\".\",\".\",\".\",\".\",\"6\",\".\"],[\"8\",\".\",\".\",\".\",\"6\",\".\",\".\",\".\",\"3\"],\n",
    "               [\"4\",\".\",\".\",\"8\",\".\",\"3\",\".\",\".\",\"1\"],[\"7\",\".\",\".\",\".\",\"2\",\".\",\".\",\".\",\"6\"],\n",
    "               [\".\",\"6\",\".\",\".\",\".\",\".\",\"2\",\"8\",\".\"],[\".\",\".\",\".\",\"4\",\"1\",\"9\",\".\",\".\",\"5\"],\n",
    "               [\".\",\".\",\".\",\".\",\"8\",\".\",\".\",\"7\",\"9\"]] "
   ]
  },
  {
   "cell_type": "code",
   "execution_count": 27,
   "id": "7e775f02-0009-4e44-808e-94b75b38c3f5",
   "metadata": {},
   "outputs": [],
   "source": [
    "def solver(board):\n",
    "    \"\"\" takes in an semi filled array and returns a complete sudoku solution\"\"\"\n",
    "\n",
    "    def valid_ch(row_, col_, char_):\n",
    "        for i in range(9):\n",
    "            # check if row already has char_\n",
    "            if board[row_][i]==char_:\n",
    "                return False\n",
    "           # check if column already has the char_     \n",
    "            if board[i][col_]==char_:\n",
    "                return False\n",
    "          # check if the grid already has the char_\n",
    "            if board[3 * (row_ // 3) + i // 3][3 * (col_ // 3) + i % 3] == char_:\n",
    "                return False\n",
    "\n",
    "        return True\n",
    "\n",
    "    def solve():\n",
    "        for r in range(9):\n",
    "            for c in range(9):\n",
    "                if board[r][c]==\".\":\n",
    "                    for ch in '123456789':\n",
    "                        if valid_ch(r,c,ch):\n",
    "                            board[r][c] = ch\n",
    "                            if solve():\n",
    "                                return True\n",
    "                                \n",
    "                            board[r][c] = '.'  # Backtrack\n",
    "                    return False  # No valid digit found\n",
    "        return True  # Solved\n",
    "\n",
    "    solve()\n",
    "                "
   ]
  },
  {
   "cell_type": "code",
   "execution_count": 29,
   "id": "4b7c0493-8a70-44c2-aa8b-7c52cda7c9a6",
   "metadata": {},
   "outputs": [],
   "source": [
    "solver(input_board)"
   ]
  },
  {
   "cell_type": "code",
   "execution_count": 30,
   "id": "deca2e12-8cab-4597-8fe2-edd9fcbd8c9b",
   "metadata": {},
   "outputs": [
    {
     "data": {
      "text/plain": [
       "[['5', '3', '4', '6', '7', '8', '9', '1', '2'],\n",
       " ['6', '7', '2', '1', '9', '5', '3', '4', '8'],\n",
       " ['1', '9', '8', '3', '4', '2', '5', '6', '7'],\n",
       " ['8', '5', '9', '7', '6', '1', '4', '2', '3'],\n",
       " ['4', '2', '6', '8', '5', '3', '7', '9', '1'],\n",
       " ['7', '1', '3', '9', '2', '4', '8', '5', '6'],\n",
       " ['9', '6', '1', '5', '3', '7', '2', '8', '4'],\n",
       " ['2', '8', '7', '4', '1', '9', '6', '3', '5'],\n",
       " ['3', '4', '5', '2', '8', '6', '1', '7', '9']]"
      ]
     },
     "execution_count": 30,
     "metadata": {},
     "output_type": "execute_result"
    }
   ],
   "source": [
    "input_board"
   ]
  },
  {
   "cell_type": "code",
   "execution_count": 40,
   "id": "94e90bea-03a0-4eaa-8e6a-cd5f95cf969e",
   "metadata": {},
   "outputs": [],
   "source": [
    "inp = [[\".\",\".\",\".\",\".\",\".\",\".\",\".\",\".\",\".\"],\n",
    "       [\".\",\"9\",\".\",\".\",\"1\",\".\",\".\",\"3\",\".\"],\n",
    "       [\".\",\".\",\"6\",\".\",\"2\",\".\",\"7\",\".\",\".\"],\n",
    "       [\".\",\".\",\".\",\"3\",\".\",\"4\",\".\",\".\",\".\"],\n",
    "       [\"2\",\"1\",\".\",\".\",\".\",\".\",\".\",\"9\",\"8\"],\n",
    "       [\".\",\".\",\".\",\".\",\".\",\".\",\".\",\".\",\".\"],\n",
    "       [\".\",\".\",\"2\",\"5\",\".\",\"6\",\"4\",\".\",\".\"],\n",
    "       [\".\",\"8\",\".\",\".\",\".\",\".\",\".\",\"1\",\".\"],\n",
    "       [\".\",\".\",\".\",\".\",\".\",\".\",\".\",\".\",\".\"]]\n"
   ]
  },
  {
   "cell_type": "code",
   "execution_count": 47,
   "id": "e4b04a89-3d32-4031-9eb0-a7aad9bbca4c",
   "metadata": {},
   "outputs": [],
   "source": [
    "solver(input_board)"
   ]
  },
  {
   "cell_type": "code",
   "execution_count": 48,
   "id": "2900acb5-852a-4772-81b8-141390f1e869",
   "metadata": {},
   "outputs": [
    {
     "data": {
      "text/plain": [
       "[['5', '3', '1', '.', '7', '.', '.', '.', '.'],\n",
       " ['6', '.', '.', '1', '9', '5', '.', '.', '.'],\n",
       " ['.', '9', '8', '.', '.', '.', '1', '6', '.'],\n",
       " ['8', '1', '.', '.', '6', '.', '.', '.', '3'],\n",
       " ['4', '.', '.', '8', '.', '3', '.', '.', '1'],\n",
       " ['7', '.', '.', '.', '2', '1', '.', '.', '6'],\n",
       " ['1', '6', '.', '.', '.', '.', '2', '8', '.'],\n",
       " ['.', '.', '.', '4', '1', '9', '.', '.', '5'],\n",
       " ['.', '.', '.', '.', '8', '.', '.', '7', '9']]"
      ]
     },
     "execution_count": 48,
     "metadata": {},
     "output_type": "execute_result"
    }
   ],
   "source": [
    "inp"
   ]
  },
  {
   "cell_type": "code",
   "execution_count": 62,
   "id": "27e8e327-131a-4009-9336-899505bb094a",
   "metadata": {},
   "outputs": [],
   "source": [
    "inp = [[\"5\",\"3\",\".\",\".\",\"7\",\".\",\".\",\".\",\".\"],\n",
    "       [\"6\",\".\",\".\",\"1\",\"9\",\"5\",\".\",\".\",\".\"],\n",
    "       [\".\",\"9\",\"8\",\".\",\".\",\".\",\".\",\"6\",\".\"],\n",
    "       [\"8\",\".\",\".\",\".\",\"6\",\".\",\".\",\".\",\"3\"],\n",
    "       [\"4\",\".\",\".\",\"8\",\".\",\"3\",\".\",\".\",\"1\"],\n",
    "       [\"7\",\".\",\".\",\".\",\"2\",\".\",\".\",\".\",\"6\"],\n",
    "       [\".\",\"6\",\".\",\".\",\".\",\".\",\"2\",\"8\",\".\"],\n",
    "       [\".\",\".\",\".\",\"4\",\"1\",\"9\",\".\",\".\",\"5\"],\n",
    "       [\".\",\".\",\".\",\".\",\"8\",\".\",\".\",\"7\",\"9\"]]"
   ]
  },
  {
   "cell_type": "code",
   "execution_count": 63,
   "id": "987a845a-03ae-419e-9a38-6a6e128ad59f",
   "metadata": {},
   "outputs": [],
   "source": [
    "solver(inp)"
   ]
  },
  {
   "cell_type": "code",
   "execution_count": 64,
   "id": "6362d0a8-648b-4579-a666-123b8df8c6b0",
   "metadata": {},
   "outputs": [
    {
     "data": {
      "text/plain": [
       "[['5', '3', '4', '6', '7', '8', '9', '1', '2'],\n",
       " ['6', '7', '2', '1', '9', '5', '3', '4', '8'],\n",
       " ['1', '9', '8', '3', '4', '2', '5', '6', '7'],\n",
       " ['8', '5', '9', '7', '6', '1', '4', '2', '3'],\n",
       " ['4', '2', '6', '8', '5', '3', '7', '9', '1'],\n",
       " ['7', '1', '3', '9', '2', '4', '8', '5', '6'],\n",
       " ['9', '6', '1', '5', '3', '7', '2', '8', '4'],\n",
       " ['2', '8', '7', '4', '1', '9', '6', '3', '5'],\n",
       " ['3', '4', '5', '2', '8', '6', '1', '7', '9']]"
      ]
     },
     "execution_count": 64,
     "metadata": {},
     "output_type": "execute_result"
    }
   ],
   "source": [
    "inp"
   ]
  },
  {
   "cell_type": "markdown",
   "id": "73f0c800-990b-4626-a716-1250e935644d",
   "metadata": {},
   "source": [
    "Below is a more effective solution with less runtime"
   ]
  },
  {
   "cell_type": "code",
   "execution_count": 61,
   "id": "f842c157-612e-4296-9772-0c49e8fae466",
   "metadata": {},
   "outputs": [],
   "source": [
    "def solver(board):\n",
    "    \"\"\"Solves a partially filled Sudoku board in-place using backtracking and fast validity checks.\"\"\"\n",
    "\n",
    "\n",
    "    rows = [set() for _ in range(9)]\n",
    "    cols = [set() for _ in range(9)]\n",
    "    boxes = [set() for _ in range(9)]\n",
    "\n",
    "    \n",
    "    for r in range(9):\n",
    "        for c in range(9):\n",
    "            val = board[r][c]\n",
    "            if val != '.':\n",
    "                rows[r].add(val)\n",
    "                cols[c].add(val)\n",
    "                boxes[(r // 3) * 3 + (c // 3)].add(val)\n",
    "\n",
    "    def solve():\n",
    "        for r in range(9):\n",
    "            for c in range(9):\n",
    "                if board[r][c] == '.':\n",
    "                    for ch in '123456789':\n",
    "                        box_idx = (r // 3) * 3 + (c // 3)\n",
    "                        if ch not in rows[r] and ch not in cols[c] and ch not in boxes[box_idx]:\n",
    "                            board[r][c] = ch\n",
    "                            rows[r].add(ch)\n",
    "                            cols[c].add(ch)\n",
    "                            boxes[box_idx].add(ch)\n",
    "\n",
    "                            if solve():\n",
    "                                return True\n",
    "\n",
    "                            # Backtrack\n",
    "                            board[r][c] = '.'\n",
    "                            rows[r].remove(ch)\n",
    "                            cols[c].remove(ch)\n",
    "                            boxes[box_idx].remove(ch)\n",
    "                    return False  # No valid digit found\n",
    "        return True  \n",
    "\n",
    "    solve()\n"
   ]
  },
  {
   "cell_type": "code",
   "execution_count": null,
   "id": "57099784-9694-46d5-9456-f2d1f07f2b78",
   "metadata": {},
   "outputs": [],
   "source": []
  }
 ],
 "metadata": {
  "kernelspec": {
   "display_name": "Python 3 (ipykernel)",
   "language": "python",
   "name": "python3"
  },
  "language_info": {
   "codemirror_mode": {
    "name": "ipython",
    "version": 3
   },
   "file_extension": ".py",
   "mimetype": "text/x-python",
   "name": "python",
   "nbconvert_exporter": "python",
   "pygments_lexer": "ipython3",
   "version": "3.9.21"
  }
 },
 "nbformat": 4,
 "nbformat_minor": 5
}
