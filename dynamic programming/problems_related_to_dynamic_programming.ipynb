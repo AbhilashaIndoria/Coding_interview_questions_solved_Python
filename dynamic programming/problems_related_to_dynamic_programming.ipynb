{
 "cells": [
  {
   "cell_type": "markdown",
   "id": "28f66b5e-da0e-46e9-995b-7d7465b89edc",
   "metadata": {},
   "source": [
    "## Problem statement:\n",
    "\n",
    "Given an input string s and a pattern p, implement regular expression matching with support for '.' and '*' where:\n",
    "\n",
    "    '.' Matches any single character.​​​​\n",
    "    '*' Matches zero or more of the preceding element.\n",
    "\n",
    "The matching should cover the entire input string (not partial).\n",
    "\n",
    " \n",
    "\n",
    "Example 1:\n",
    "\n",
    "Input: s = \"aa\", p = \"a\"\n",
    "Output: false\n",
    "Explanation: \"a\" does not match the entire string \"aa\".\n",
    "\n",
    "Example 2:\n",
    "\n",
    "Input: s = \"aa\", p = \"a*\"\n",
    "Output: true\n",
    "Explanation: '*' means zero or more of the preceding element, 'a'. Therefore, by repeating 'a' once, it becomes \"aa\".\n",
    "\n",
    "Example 3:\n",
    "\n",
    "Input: s = \"ab\", p = \".*\"\n",
    "Output: true\n",
    "Explanation: \".*\" means \"zero or more (*) of any character (.)\".\n",
    "\n",
    " \n",
    "\n",
    "Constraints:\n",
    "\n",
    "    1 <= s.length <= 20\n",
    "    1 <= p.length <= 20\n",
    "    s contains only lowercase English letters\n",
    "\n",
    "    .\n",
    "    p contains only lowercase English letters, '.', and '*'.\n",
    "    It is guaranteed for each appearance of the character '*', there will be a previous valid character to match.\n",
    "\n"
   ]
  },
  {
   "cell_type": "markdown",
   "id": "97c5799f-f89a-44e4-8398-5a5e0eadea50",
   "metadata": {},
   "source": [
    "## In this problem we are going to use dynamic programming (DP):\n",
    "DP: technique for solving problems by breaking them into overlapping subproblems, or you can say the recursion problems like fibonachi series or \n",
    "number of ways of reaching nth step on a staircase if you can take either one or two step at a time.\n",
    "\n",
    "So basically we have to keep track of the states we have visited or can visit.\n",
    "\n",
    "DP can be done in two ways- top down approach (recursion+ memoization) and bottom up appraoch (iterative and build table).\n",
    "\n",
    "## We will first solve the staircase problem with simple recursion, DP top down and DP bottom up approach to get a hang of DP and then revisit the problem at hand.\n",
    "\n"
   ]
  },
  {
   "cell_type": "markdown",
   "id": "d2856dd3-b928-4eef-80c9-053b3c5a604b",
   "metadata": {},
   "source": [
    "## Recursion solution for staircase problem:\n",
    "\n"
   ]
  },
  {
   "cell_type": "code",
   "execution_count": 1,
   "id": "b2473c3d-af2f-4473-bdcb-422c7e1a3402",
   "metadata": {},
   "outputs": [],
   "source": [
    "def recursion_staircase_climb(n:int)-> int:\n",
    "    \"\"\"This is a recursion function that takes in the step number (n) to be\n",
    "    reached and returns distinct number of ways the nth step can be reached\n",
    "    provided either one or two steps at a time could be climbed\"\"\"\n",
    "\n",
    "    if n==0 or n==1:\n",
    "        return 1\n",
    "    else:\n",
    "        return recursion_staircase_climb(n-1) + recursion_staircase_climb(n-2)\n",
    "        # the logic here is that nth step can be reached from n-1th step (in one step)\n",
    "        # or from n-2th step (in 2 steps).\n",
    "    "
   ]
  },
  {
   "cell_type": "code",
   "execution_count": 2,
   "id": "a6ae3761-3d3b-4726-a001-683609f8bcf9",
   "metadata": {},
   "outputs": [
    {
     "data": {
      "text/plain": [
       "3"
      ]
     },
     "execution_count": 2,
     "metadata": {},
     "output_type": "execute_result"
    }
   ],
   "source": [
    "recursion_staircase_climb(3)"
   ]
  },
  {
   "cell_type": "code",
   "execution_count": 3,
   "id": "f250acf7-d9df-495b-9a23-225e51b0d0be",
   "metadata": {},
   "outputs": [
    {
     "data": {
      "text/plain": [
       "8"
      ]
     },
     "execution_count": 3,
     "metadata": {},
     "output_type": "execute_result"
    }
   ],
   "source": [
    "recursion_staircase_climb(5)"
   ]
  },
  {
   "cell_type": "code",
   "execution_count": 4,
   "id": "d1b19aaa-63ae-448c-a411-fa811f905ca7",
   "metadata": {},
   "outputs": [
    {
     "data": {
      "text/plain": [
       "5"
      ]
     },
     "execution_count": 4,
     "metadata": {},
     "output_type": "execute_result"
    }
   ],
   "source": [
    "recursion_staircase_climb(4)"
   ]
  },
  {
   "cell_type": "markdown",
   "id": "e9d6471c-b097-4af8-9cdc-1565850c8f2d",
   "metadata": {},
   "source": [
    "## recursion_staircase_climb(4):\n",
    "recursion_staircase_climb(3)+ recursion_staircase_climb(2) =\n",
    "                                                  \n",
    "f(2)+f(1) |                            f(1)+f(0)=2\n",
    "             \n",
    "f(0)+f(1)+1 = 3\n",
    "\n",
    "therefore total output = 3+2 =5 \n",
    "\n",
    "here we are computing recursion_staircase_climb(2) twice, so if n increases the number of repetitions\n",
    "also increase. So another approach is to keep track of what has already been computed and that can be achieved\n",
    "through DP\n",
    "\n"
   ]
  },
  {
   "cell_type": "markdown",
   "id": "e97adaf2-acf6-4706-918d-fa3d030a0732",
   "metadata": {},
   "source": [
    "## Recursion with Memoization- top down DP"
   ]
  },
  {
   "cell_type": "code",
   "execution_count": 8,
   "id": "0a9d9bea-1bb8-4861-a84b-ed5f5fbc93dd",
   "metadata": {},
   "outputs": [],
   "source": [
    "def climb_DP_top_down(n:int, memo:dict = {})-> int:\n",
    "    \"\"\" takes in an integer(nth step) and a dictionary initialized to empty dict by default, to keep\n",
    "    track of states that have already been computed and returns distinct ways to reach the nth step,\n",
    "    given either one or two steps can be climbed at a time\"\"\"\n",
    "\n",
    "    if n in memo:\n",
    "        return memo[n]\n",
    "    if n==0 or n==1:\n",
    "        return 1\n",
    "    memo[n] = climb_DP_top_down(n-1, memo) + climb_DP_top_down(n-2, memo)\n",
    "    print(memo)\n",
    "    return memo[n]"
   ]
  },
  {
   "cell_type": "code",
   "execution_count": 9,
   "id": "ea5888ed-6e34-465c-99a1-a70470016972",
   "metadata": {},
   "outputs": [
    {
     "name": "stdout",
     "output_type": "stream",
     "text": [
      "{2: 2}\n",
      "{2: 2, 3: 3}\n",
      "{2: 2, 3: 3, 4: 5}\n"
     ]
    },
    {
     "data": {
      "text/plain": [
       "5"
      ]
     },
     "execution_count": 9,
     "metadata": {},
     "output_type": "execute_result"
    }
   ],
   "source": [
    "climb_DP_top_down(4)"
   ]
  },
  {
   "cell_type": "markdown",
   "id": "5fc3bf84-b1e7-4770-ab49-af28063bc969",
   "metadata": {},
   "source": [
    "## DP with iteration and Tabulation- bottom up DP"
   ]
  },
  {
   "cell_type": "code",
   "execution_count": 13,
   "id": "bb80e67c-9719-4599-b7d1-4910c7370d70",
   "metadata": {},
   "outputs": [],
   "source": [
    "def climb_DP_bottom_up(n:int)-> int:\n",
    "    \"\"\" takes in an integer(nth step),  to keep\n",
    "    track of states that have already been computed an array is used. the function returns distinct ways to reach the nth step,\n",
    "    given either one or two steps can be climbed at a time\"\"\"\n",
    "\n",
    "    dp = [0]*(n+1)\n",
    "    dp[0] =1\n",
    "    dp[1] = 1\n",
    "    for i in range (2, len(dp)):\n",
    "        dp[i] = dp[i-1]+dp[i-2]\n",
    "        print(dp)\n",
    "    return dp[i]"
   ]
  },
  {
   "cell_type": "code",
   "execution_count": 14,
   "id": "9a7d0db8-591b-4d43-a66f-3b3ef85db4db",
   "metadata": {},
   "outputs": [
    {
     "name": "stdout",
     "output_type": "stream",
     "text": [
      "[1, 1, 2, 0, 0]\n",
      "[1, 1, 2, 3, 0]\n",
      "[1, 1, 2, 3, 5]\n"
     ]
    },
    {
     "data": {
      "text/plain": [
       "5"
      ]
     },
     "execution_count": 14,
     "metadata": {},
     "output_type": "execute_result"
    }
   ],
   "source": [
    "#[0]*(4+1)\n",
    "\n",
    "climb_DP_bottom_up(4)"
   ]
  },
  {
   "cell_type": "code",
   "execution_count": 1,
   "id": "836fe65a-649f-4fb8-9b58-3c379b0e7de6",
   "metadata": {},
   "outputs": [],
   "source": [
    "s = \"ab\"\n",
    "p = \".*\"\n",
    "\n",
    "\n",
    "s = \"aab\"\n",
    "p = \"c*a*b\"\n",
    "#true\n",
    "\n",
    "s = \"mississippi\"\n",
    "p = \"mis*is*p*.\"\n",
    "#false"
   ]
  },
  {
   "cell_type": "markdown",
   "id": "222e66e4-3305-4e92-8aff-d5b4fcc0b445",
   "metadata": {},
   "source": [
    "## Problem statement:\n",
    "\n",
    "Given an input string s and a pattern p, implement regular expression matching with support for '.' and '*' where:\n",
    "\n",
    "    '.' Matches any single character.​​​​\n",
    "    '*' Matches zero or more of the preceding element.\n",
    "\n",
    "The matching should cover the entire input string (not partial).\n",
    "\n",
    " \n",
    "\n",
    "Example 1:\n",
    "\n",
    "Input: s = \"aa\", p = \"a\"\n",
    "Output: false\n",
    "Explanation: \"a\" does not match the entire string \"aa\".\n",
    "\n",
    "Example 2:\n",
    "\n",
    "Input: s = \"aa\", p = \"a*\"\n",
    "Output: true\n",
    "Explanation: '*' means zero or more of the preceding element, 'a'. Therefore, by repeating 'a' once, it becomes \"aa\".\n",
    "\n",
    "Example 3:\n",
    "\n",
    "Input: s = \"ab\", p = \".*\"\n",
    "Output: true\n",
    "Explanation: \".*\" means \"zero or more (*) of any character (.)\".\n",
    "\n",
    " \n",
    "\n",
    "Constraints:\n",
    "\n",
    "    1 <= s.length <= 20\n",
    "    1 <= p.length <= 20\n",
    "    s contains only lowercase English letters\n",
    "\n",
    "    .\n",
    "    p contains only lowercase English letters, '.', and '*'.\n",
    "    It is guaranteed for each appearance of the character '*', there will be a previous valid character to match.\n",
    "\n"
   ]
  },
  {
   "cell_type": "code",
   "execution_count": 13,
   "id": "cda06fe1-c1ad-4427-8de9-834a71a83341",
   "metadata": {},
   "outputs": [],
   "source": [
    "## with only recursion:\n",
    "\n",
    "def matching(s, p):\n",
    "    def match_i_j(i,j):\n",
    "        if j==len(p):\n",
    "            return i==len(s)\n",
    "\n",
    "        match_char = i<len(s) and (p[j]==s[i] or p[j]=='.')\n",
    "\n",
    "        if (j+1)<len(p) and p[j+1]=='*':\n",
    "            return match_i_j(i,j+2) or (match_char and match_i_j(i+1,j))\n",
    "        else:\n",
    "            return match_char and match_i_j(i+1, j+1)\n",
    "\n",
    "    return match_i_j(0,0)"
   ]
  },
  {
   "cell_type": "code",
   "execution_count": 17,
   "id": "2bbf2f19-46d8-4b5c-9429-ceea6005bead",
   "metadata": {},
   "outputs": [],
   "source": [
    "## Memoization approach\n",
    "\n",
    "def matching_memo(s,p):\n",
    "    memo = {}\n",
    "    def match_i_j(i,j):\n",
    "        if (i,j) in memo:\n",
    "            return memo[(i,j)]\n",
    "        if j == len(p):\n",
    "            return i == len(s)\n",
    "\n",
    "        match_char = i<len(s) and (p[j]==s[i] or p[j]=='.')\n",
    "\n",
    "        if (j+1)<len(p) and p[j+1]=='*':\n",
    "            memo[(i,j)] = match_i_j(i,j+2) or (match_char and match_i_j(i+1,j))\n",
    "\n",
    "        else:\n",
    "            memo[(i,j)] = match_char and match_i_j(i+1,j+1)\n",
    "        return memo[(i, j)]\n",
    "\n",
    "    return match_i_j(0,0)\n",
    "            "
   ]
  },
  {
   "cell_type": "code",
   "execution_count": null,
   "id": "aa5af364-8cfb-4b9b-b47e-9269d7f20ff1",
   "metadata": {},
   "outputs": [],
   "source": []
  },
  {
   "cell_type": "code",
   "execution_count": 46,
   "id": "48248bce-9449-4eb3-9db4-4adcb7eff1d4",
   "metadata": {},
   "outputs": [],
   "source": [
    "s = \"ab\"\n",
    "p = \".*\""
   ]
  },
  {
   "cell_type": "code",
   "execution_count": 47,
   "id": "a5e19708-f835-4284-ba42-ae003877e425",
   "metadata": {},
   "outputs": [
    {
     "data": {
      "text/plain": [
       "True"
      ]
     },
     "execution_count": 47,
     "metadata": {},
     "output_type": "execute_result"
    }
   ],
   "source": [
    "matching_memo(s,p)"
   ]
  },
  {
   "cell_type": "code",
   "execution_count": 50,
   "id": "223d9ec6-457c-4e3b-83b5-4db18221f00b",
   "metadata": {},
   "outputs": [],
   "source": [
    "s = \"aa\"\n",
    "p = \"a\" "
   ]
  },
  {
   "cell_type": "code",
   "execution_count": 51,
   "id": "a06f4dd2-5141-4abd-be36-6d053ad30148",
   "metadata": {},
   "outputs": [
    {
     "data": {
      "text/plain": [
       "False"
      ]
     },
     "execution_count": 51,
     "metadata": {},
     "output_type": "execute_result"
    }
   ],
   "source": [
    "matching_memo(s,p)"
   ]
  },
  {
   "cell_type": "code",
   "execution_count": 52,
   "id": "1620d5e2-1124-4a99-a9ad-e876436359f1",
   "metadata": {},
   "outputs": [],
   "source": [
    "s =\"aa\"\n",
    "p = \"a*\""
   ]
  },
  {
   "cell_type": "code",
   "execution_count": 53,
   "id": "ebe6e736-0015-4a92-b146-ff5b3490a11a",
   "metadata": {},
   "outputs": [
    {
     "data": {
      "text/plain": [
       "True"
      ]
     },
     "execution_count": 53,
     "metadata": {},
     "output_type": "execute_result"
    }
   ],
   "source": [
    "matching_memo(s,p)"
   ]
  },
  {
   "cell_type": "code",
   "execution_count": 54,
   "id": "489a9800-30a3-4daa-ae36-f681afceb90b",
   "metadata": {},
   "outputs": [],
   "source": [
    "s = \"ab\"\n",
    "p = \".*\""
   ]
  },
  {
   "cell_type": "code",
   "execution_count": 18,
   "id": "3c934f90-9b13-4374-bce4-143b7ca3269d",
   "metadata": {},
   "outputs": [
    {
     "data": {
      "text/plain": [
       "False"
      ]
     },
     "execution_count": 18,
     "metadata": {},
     "output_type": "execute_result"
    }
   ],
   "source": [
    "matching_memo(s,p)"
   ]
  },
  {
   "cell_type": "code",
   "execution_count": 1,
   "id": "8ab9ef73-c51e-4dbc-86ca-710f3cccede4",
   "metadata": {},
   "outputs": [],
   "source": [
    "s = \"ab\"\n",
    "p = \".*c\""
   ]
  },
  {
   "cell_type": "code",
   "execution_count": null,
   "id": "ffad3d8c-ecfe-4cc7-a8d5-9efb1cb34185",
   "metadata": {},
   "outputs": [],
   "source": []
  },
  {
   "cell_type": "code",
   "execution_count": 62,
   "id": "28748fcd-e09e-4c28-90fc-74a60c32228c",
   "metadata": {},
   "outputs": [
    {
     "data": {
      "text/plain": [
       "False"
      ]
     },
     "execution_count": 62,
     "metadata": {},
     "output_type": "execute_result"
    }
   ],
   "source": [
    "matching_memo(s,p)"
   ]
  },
  {
   "cell_type": "code",
   "execution_count": 2,
   "id": "5d329c28-91b7-4c35-83f0-c8addbe7d183",
   "metadata": {},
   "outputs": [],
   "source": [
    "dp = [[False] * (len(p) + 1) for _ in range(len(s) + 1)]"
   ]
  },
  {
   "cell_type": "code",
   "execution_count": 3,
   "id": "8da3a62a-7142-4cc4-b12e-853b1922dbc9",
   "metadata": {},
   "outputs": [
    {
     "data": {
      "text/plain": [
       "[[False, False, False, False],\n",
       " [False, False, False, False],\n",
       " [False, False, False, False]]"
      ]
     },
     "execution_count": 3,
     "metadata": {},
     "output_type": "execute_result"
    }
   ],
   "source": [
    "dp"
   ]
  },
  {
   "cell_type": "code",
   "execution_count": 4,
   "id": "f30dbe44-b16a-4f30-899d-b345586f416b",
   "metadata": {},
   "outputs": [
    {
     "data": {
      "text/plain": [
       "3"
      ]
     },
     "execution_count": 4,
     "metadata": {},
     "output_type": "execute_result"
    }
   ],
   "source": [
    "len(p)"
   ]
  },
  {
   "cell_type": "code",
   "execution_count": 5,
   "id": "ed8ef93d-a8fe-4051-b6bc-30b3b4c90c1b",
   "metadata": {},
   "outputs": [
    {
     "data": {
      "text/plain": [
       "2"
      ]
     },
     "execution_count": 5,
     "metadata": {},
     "output_type": "execute_result"
    }
   ],
   "source": [
    "len(s)"
   ]
  },
  {
   "cell_type": "code",
   "execution_count": 6,
   "id": "a307b722-3563-4aba-9cc4-b37ef212a6ea",
   "metadata": {},
   "outputs": [],
   "source": [
    "dp[len(s)][len(p)] = True"
   ]
  },
  {
   "cell_type": "code",
   "execution_count": 7,
   "id": "d5d81f9e-34c7-4093-a4cd-63f7599e5b87",
   "metadata": {},
   "outputs": [
    {
     "data": {
      "text/plain": [
       "[[False, False, False, False],\n",
       " [False, False, False, False],\n",
       " [False, False, False, True]]"
      ]
     },
     "execution_count": 7,
     "metadata": {},
     "output_type": "execute_result"
    }
   ],
   "source": [
    "dp"
   ]
  },
  {
   "cell_type": "code",
   "execution_count": 15,
   "id": "e8f2c447-f3fb-4d8c-9ce4-0c6e06aad83b",
   "metadata": {},
   "outputs": [],
   "source": [
    "def matching_DP(s, p):\n",
    "    dp = [[False] * (len(p) + 1) for _ in range(len(s) + 1)]\n",
    "    dp[len(s)][len(p)] = True  # base case: empty string matches empty pattern\n",
    "\n",
    "    for i in range(len(s), -1, -1):\n",
    "        for j in range(len(p) - 1, -1, -1):\n",
    "            match_char = i < len(s) and (s[i] == p[j] or p[j] == '.')\n",
    "            if (j + 1) < len(p) and p[j + 1] == '*':\n",
    "                dp[i][j] = dp[i][j + 2] or (match_char and dp[i + 1][j])\n",
    "                print('if statement: ',i,j, '\\n',  dp)\n",
    "            else:\n",
    "                dp[i][j] = match_char and dp[i + 1][j + 1]\n",
    "                print('else statement: ',i,j, '\\n',  dp)\n",
    "\n",
    "    return dp[0][0]"
   ]
  },
  {
   "cell_type": "code",
   "execution_count": 16,
   "id": "aafb7947-bd18-48b1-bd37-693288f7676d",
   "metadata": {},
   "outputs": [
    {
     "name": "stdout",
     "output_type": "stream",
     "text": [
      "else statement:  2 2 \n",
      " [[False, False, False, False], [False, False, False, False], [False, False, False, True]]\n",
      "else statement:  2 1 \n",
      " [[False, False, False, False], [False, False, False, False], [False, False, False, True]]\n",
      "if statement:  2 0 \n",
      " [[False, False, False, False], [False, False, False, False], [False, False, False, True]]\n",
      "else statement:  1 2 \n",
      " [[False, False, False, False], [False, False, False, False], [False, False, False, True]]\n",
      "else statement:  1 1 \n",
      " [[False, False, False, False], [False, False, False, False], [False, False, False, True]]\n",
      "if statement:  1 0 \n",
      " [[False, False, False, False], [False, False, False, False], [False, False, False, True]]\n",
      "else statement:  0 2 \n",
      " [[False, False, False, False], [False, False, False, False], [False, False, False, True]]\n",
      "else statement:  0 1 \n",
      " [[False, False, False, False], [False, False, False, False], [False, False, False, True]]\n",
      "if statement:  0 0 \n",
      " [[False, False, False, False], [False, False, False, False], [False, False, False, True]]\n"
     ]
    },
    {
     "data": {
      "text/plain": [
       "False"
      ]
     },
     "execution_count": 16,
     "metadata": {},
     "output_type": "execute_result"
    }
   ],
   "source": [
    "matching_DP(s,p)"
   ]
  },
  {
   "cell_type": "code",
   "execution_count": 13,
   "id": "53326426-6c6b-443c-a1ea-90225860017a",
   "metadata": {},
   "outputs": [
    {
     "name": "stdout",
     "output_type": "stream",
     "text": [
      "2 2\n",
      "2 1\n",
      "2 0\n",
      "1 2\n",
      "1 1\n",
      "1 0\n",
      "0 2\n",
      "0 1\n",
      "0 0\n"
     ]
    }
   ],
   "source": [
    "for i in range(len(s), -1, -1):\n",
    "    for j in range(len(p) - 1, -1, -1):\n",
    "        print(i,j)\n",
    "\n",
    "    "
   ]
  },
  {
   "cell_type": "code",
   "execution_count": 10,
   "id": "c54b2dff-9a45-400c-af5c-816ff7b1b1cb",
   "metadata": {},
   "outputs": [
    {
     "data": {
      "text/plain": [
       "('ab', '.*c')"
      ]
     },
     "execution_count": 10,
     "metadata": {},
     "output_type": "execute_result"
    }
   ],
   "source": [
    "s, p"
   ]
  },
  {
   "cell_type": "code",
   "execution_count": 9,
   "id": "2d4f3397-99b0-40a7-af5b-600001297a4a",
   "metadata": {},
   "outputs": [
    {
     "name": "stdout",
     "output_type": "stream",
     "text": [
      "else statement:  \n",
      " [[False, False, False, False], [False, False, False, False], [False, False, False, True]]\n",
      "else statement:  \n",
      " [[False, False, False, False], [False, False, False, False], [False, False, False, True]]\n",
      "if statement:  \n",
      " [[False, False, False, False], [False, False, False, False], [False, False, False, True]]\n",
      "else statement:  \n",
      " [[False, False, False, False], [False, False, False, False], [False, False, False, True]]\n",
      "else statement:  \n",
      " [[False, False, False, False], [False, False, False, False], [False, False, False, True]]\n",
      "if statement:  \n",
      " [[False, False, False, False], [False, False, False, False], [False, False, False, True]]\n",
      "else statement:  \n",
      " [[False, False, False, False], [False, False, False, False], [False, False, False, True]]\n",
      "else statement:  \n",
      " [[False, False, False, False], [False, False, False, False], [False, False, False, True]]\n",
      "if statement:  \n",
      " [[False, False, False, False], [False, False, False, False], [False, False, False, True]]\n"
     ]
    },
    {
     "data": {
      "text/plain": [
       "False"
      ]
     },
     "execution_count": 9,
     "metadata": {},
     "output_type": "execute_result"
    }
   ],
   "source": [
    "matching_DP(s,p)"
   ]
  },
  {
   "cell_type": "code",
   "execution_count": null,
   "id": "631eb2c1-8f39-4d8b-a577-664ef101839b",
   "metadata": {},
   "outputs": [],
   "source": []
  }
 ],
 "metadata": {
  "kernelspec": {
   "display_name": "Python 3 (ipykernel)",
   "language": "python",
   "name": "python3"
  },
  "language_info": {
   "codemirror_mode": {
    "name": "ipython",
    "version": 3
   },
   "file_extension": ".py",
   "mimetype": "text/x-python",
   "name": "python",
   "nbconvert_exporter": "python",
   "pygments_lexer": "ipython3",
   "version": "3.9.21"
  }
 },
 "nbformat": 4,
 "nbformat_minor": 5
}
