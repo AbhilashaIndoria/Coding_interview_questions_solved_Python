{
 "cells": [
  {
   "cell_type": "markdown",
   "id": "eb66a4ef-cc30-4f3e-bbc1-3ba5f3ee7004",
   "metadata": {},
   "source": [
    "## this notebook explains the task finding the mdeian of two sorted arrays using binary search algorithm"
   ]
  },
  {
   "cell_type": "code",
   "execution_count": 1,
   "id": "7b1c96db-4ce8-4fae-8cc3-37f12924c045",
   "metadata": {},
   "outputs": [],
   "source": [
    "import numpy as np\n",
    "from typing import Union"
   ]
  },
  {
   "cell_type": "markdown",
   "id": "4662b78d-b8dc-47fc-8544-829ba0121742",
   "metadata": {},
   "source": [
    "## Lets first understand the binary search algorithm before finding the median of two sorted array.\n",
    "BSA is used to find an element position in an sorted array and the logic says that:\n",
    "keep the lowest equal to 0\n",
    "and highest equal to 1.\n",
    "while your highest is greater or equal to low:\n",
    "\n",
    "divide the array in to find the mid point\n",
    "compare the target element with the mid point:\n",
    "since the array is sorted:\n",
    "if element at mid = target element:\n",
    "bingo! you found the position\n",
    "if element at mid<target element:\n",
    "then the target must be in the right \n",
    "so set the lowest to mid+1\n",
    "otherwise element at mid > target:\n",
    "this means the target is towards left of your mid point\n",
    "so set your highest to mid-1 \n",
    "\n",
    "keep looping till your while condition is true:\n",
    "\n",
    "below is the code for BSA\n",
    "            \n"
   ]
  },
  {
   "cell_type": "code",
   "execution_count": 2,
   "id": "3e492876-0990-4107-a069-faf58af989ca",
   "metadata": {},
   "outputs": [],
   "source": [
    "def BSA(arr:Union[list[float], list[int]], target:Union[int,float]) -> int:\n",
    "    \"\"\" Returns the position of target if the target is found in array and it returns -1 if the element is not found in the array\"\"\"\n",
    "\n",
    "    lowest = 0\n",
    "    highest = len(arr)-1\n",
    "\n",
    "    while lowest<=highest:\n",
    "\n",
    "        mid = (lowest+highest)//2\n",
    "        #print(mid)\n",
    "\n",
    "        if arr[mid]==target:\n",
    "            return mid\n",
    "\n",
    "        elif arr[mid]<target:\n",
    "            lowest = mid+1\n",
    "\n",
    "        else:\n",
    "            highest=mid-1\n",
    "    \n",
    "    return -1"
   ]
  },
  {
   "cell_type": "code",
   "execution_count": 3,
   "id": "d8465a6e-bc8c-4281-b89f-fdf7f50e90f9",
   "metadata": {},
   "outputs": [],
   "source": [
    "check = [2, 4, 5, 6]"
   ]
  },
  {
   "cell_type": "code",
   "execution_count": 4,
   "id": "d3bb5d01-26e7-4228-ac04-7850ce0f297e",
   "metadata": {},
   "outputs": [
    {
     "data": {
      "text/plain": [
       "2"
      ]
     },
     "execution_count": 4,
     "metadata": {},
     "output_type": "execute_result"
    }
   ],
   "source": [
    "BSA(check, 5)"
   ]
  },
  {
   "cell_type": "code",
   "execution_count": 5,
   "id": "23d46435-fa2a-4383-ad0f-794a1c3611e1",
   "metadata": {},
   "outputs": [
    {
     "data": {
      "text/plain": [
       "3"
      ]
     },
     "execution_count": 5,
     "metadata": {},
     "output_type": "execute_result"
    }
   ],
   "source": [
    "BSA(check, 6)"
   ]
  },
  {
   "cell_type": "code",
   "execution_count": 6,
   "id": "078c4c90-a105-4ac4-8be4-f4b17ca51d3d",
   "metadata": {},
   "outputs": [
    {
     "data": {
      "text/plain": [
       "0"
      ]
     },
     "execution_count": 6,
     "metadata": {},
     "output_type": "execute_result"
    }
   ],
   "source": [
    "BSA(check, 2)"
   ]
  },
  {
   "cell_type": "code",
   "execution_count": 7,
   "id": "a9630bc3-852a-4bd5-921d-fc1fc64bd062",
   "metadata": {},
   "outputs": [
    {
     "data": {
      "text/plain": [
       "1"
      ]
     },
     "execution_count": 7,
     "metadata": {},
     "output_type": "execute_result"
    }
   ],
   "source": [
    "BSA(check, 4)"
   ]
  },
  {
   "cell_type": "markdown",
   "id": "ed7e8b43-6a70-4518-a53b-54a4003d4f2c",
   "metadata": {},
   "source": [
    "## lets find the median of the two sorted arrays using BSA:\n",
    "idea is to take the smaller array, partition it and that is the left half of your new array from the smaller array.\n",
    "Using this partition calculate the number of elements/partition to be placed on left side from the second array.\n",
    "\n",
    "now use the following condition two find the median:\n",
    "max element from left partion of array1 should be less than (=) min element of right partition from array2.\n",
    "AND max element from left partition of array2 should be less than (=) min element of right partition from array1.\n",
    "\n",
    "if first condition is false move left\n",
    "if second condition is false move right"
   ]
  },
  {
   "cell_type": "code",
   "execution_count": 25,
   "id": "6235b79e-abdb-4fe3-a918-a3c6be66580d",
   "metadata": {},
   "outputs": [],
   "source": [
    "def findMedianSortedArrays(nums1:Union[list[int], list[float]], nums2:Union[list[int], list[float]]) -> Union[int,float]:\n",
    "    \"\"\"This function finds the median of two sorted arrats using binary search algorithm\"\"\"\n",
    "    \n",
    "    if len(nums1) > len(nums2): # we want length of nums1 to be less than len of nums2, if not the case we will interghange nums1 with nums2\n",
    "        nums1, nums2 = nums2, nums1\n",
    "\n",
    "    x, y = len(nums1), len(nums2)\n",
    "    low, high = 0, x\n",
    "\n",
    "    while low <= high:\n",
    "        partitionX = (low + high) // 2\n",
    "        partitionY = (x + y + 1) // 2 - partitionX\n",
    "        print(partitionX, partitionY)\n",
    "\n",
    "        maxLeftX = float('-inf') if partitionX == 0 else nums1[partitionX - 1]\n",
    "        minRightX = float('inf') if partitionX == x else nums1[partitionX]\n",
    "\n",
    "        maxLeftY = float('-inf') if partitionY == 0 else nums2[partitionY - 1]\n",
    "        minRightY = float('inf') if partitionY == y else nums2[partitionY]\n",
    "\n",
    "        print('maxLeftX: ', maxLeftX)\n",
    "        print('minRightX: ', minRightX)\n",
    "        print('maxLeftY: ', maxLeftY)\n",
    "        print('minRightY: ', minRightY)\n",
    "\n",
    "        if maxLeftX <= minRightY and maxLeftY <= minRightX:\n",
    "            if (x + y) % 2 == 0:\n",
    "                print((max(maxLeftX, maxLeftY) + min(minRightX, minRightY)) / 2)\n",
    "                return (max(maxLeftX, maxLeftY) + min(minRightX, minRightY)) / 2\n",
    "            else:\n",
    "                return max(maxLeftX, maxLeftY)\n",
    "        elif maxLeftX > minRightY:\n",
    "            high = partitionX - 1\n",
    "        else:\n",
    "            low = partitionX + 1\n",
    "\n",
    "    raise ValueError(\"Input arrays are not sorted properly.\")\n"
   ]
  },
  {
   "cell_type": "code",
   "execution_count": 26,
   "id": "d198fca8-387f-443c-943e-abcb8f799ba2",
   "metadata": {},
   "outputs": [],
   "source": [
    "nums1 = [1,2]\n",
    "nums2 = [3,4]"
   ]
  },
  {
   "cell_type": "code",
   "execution_count": 27,
   "id": "2848f674-6baa-450f-b8a9-925ee5d53118",
   "metadata": {},
   "outputs": [
    {
     "name": "stdout",
     "output_type": "stream",
     "text": [
      "1 1\n",
      "maxLeftX:  1\n",
      "minRightX:  2\n",
      "maxLeftY:  3\n",
      "minRightY:  4\n",
      "2 0\n",
      "maxLeftX:  2\n",
      "minRightX:  inf\n",
      "maxLeftY:  -inf\n",
      "minRightY:  3\n",
      "2.5\n"
     ]
    },
    {
     "data": {
      "text/plain": [
       "2.5"
      ]
     },
     "execution_count": 27,
     "metadata": {},
     "output_type": "execute_result"
    }
   ],
   "source": [
    "findMedianSortedArrays(nums1, nums2)"
   ]
  },
  {
   "cell_type": "code",
   "execution_count": null,
   "id": "37d12b82-8456-4dec-aa23-d7ce2278571f",
   "metadata": {},
   "outputs": [],
   "source": []
  },
  {
   "cell_type": "code",
   "execution_count": null,
   "id": "b6f04131-8bb1-4558-8326-7fdf9d38af4b",
   "metadata": {},
   "outputs": [],
   "source": []
  }
 ],
 "metadata": {
  "kernelspec": {
   "display_name": "Python (GPU)",
   "language": "python",
   "name": "phd"
  },
  "language_info": {
   "codemirror_mode": {
    "name": "ipython",
    "version": 3
   },
   "file_extension": ".py",
   "mimetype": "text/x-python",
   "name": "python",
   "nbconvert_exporter": "python",
   "pygments_lexer": "ipython3",
   "version": "3.9.21"
  }
 },
 "nbformat": 4,
 "nbformat_minor": 5
}
