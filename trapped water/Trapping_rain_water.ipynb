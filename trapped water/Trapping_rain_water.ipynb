{
 "cells": [
  {
   "cell_type": "markdown",
   "id": "9c9dfd72-27f5-4a59-9c6a-24ecc99976a5",
   "metadata": {},
   "source": [
    "Given n non-negative integers representing an elevation map where the width of each bar is 1, compute how much water it can trap after raining.\n",
    "\n",
    " \n",
    "\n",
    "Example 1:\n",
    "\n",
    "Input: height = [0,1,0,2,1,0,1,3,2,1,2,1]\n",
    "Output: 6\n",
    "Explanation:  In this case, 6 units of rain water (blue section) are being trapped.\n",
    "\n",
    "Example 2:\n",
    "\n",
    "Input: height = [4,2,0,3,2,5]\n",
    "Output: 9\n",
    "\n",
    " \n",
    "\n",
    "Constraints:\n",
    "\n",
    "    n == height.length\n",
    "    1 <= n <= 2 * 104\n",
    "    0 <= height[i] <= 105\n",
    "\n"
   ]
  },
  {
   "cell_type": "code",
   "execution_count": 1,
   "id": "de74443a-8e30-4827-aee7-606bf9646389",
   "metadata": {},
   "outputs": [],
   "source": [
    "import numpy as np"
   ]
  },
  {
   "cell_type": "markdown",
   "id": "176433c6-9916-465b-8fd7-40a99b5a8736",
   "metadata": {},
   "source": [
    "In the following piece of code, we have 2 pointers, left and right initially pointing at the 0th and\n",
    "the ;ast index of the height array. Next we will iterate untill left is less than right, the water trapped \n",
    "will depend upon the shorter bar so we will update these indices accordingly.\n",
    "so we have a leftmax initially set to the first element of the array and rightmax variable set initially to the last\n",
    "value of the array. \n",
    "if element at left index is less than the element at right index we are going to update through\n",
    "left:\n",
    "increase left index, see if leftmax needs to be updated, and check if some water is trpped.\n",
    "left+=1\n",
    "leftmax = max(leftmax, height(left): if the height at new left is more leftmax gets updated\n",
    "water += max(0, leftmax-height(left): if the difference between leftmax and current height is \n",
    "positive which implies that the next bar is shorter; the water is trapped count the difference\n",
    "and add it to the water.\n"
   ]
  },
  {
   "cell_type": "code",
   "execution_count": null,
   "id": "aa8cd1cd-6083-4914-8698-58e2f429790b",
   "metadata": {},
   "outputs": [],
   "source": []
  },
  {
   "cell_type": "code",
   "execution_count": 12,
   "id": "0645e82e-0b99-43b2-ae08-b40d40bf6951",
   "metadata": {},
   "outputs": [],
   "source": [
    "def water_trapped(height:np.array)->int:\n",
    "    \"\"\"This function takes in an integer array (heights of vertical bars) and returns an integer (how much water can\n",
    "    be trapped).\"\"\"\n",
    "    if not height:\n",
    "        return 0\n",
    "\n",
    "    left = 0\n",
    "    right = len(height)-1\n",
    "    leftmax = height[left]\n",
    "    rightmax = height[right]\n",
    "    water = 0\n",
    "\n",
    "    while left<right:\n",
    "        if height[left]<height[right]:\n",
    "            left+=1\n",
    "            leftmax = max(leftmax, height[left])\n",
    "            water += max(0, leftmax- height[left])\n",
    "        else:\n",
    "            right-=1\n",
    "            rightmax = max(rightmax, height[right])\n",
    "            water += max(0, rightmax-height[right])\n",
    "\n",
    "    return water\n",
    "            "
   ]
  },
  {
   "cell_type": "code",
   "execution_count": 13,
   "id": "51e3d470-205c-4617-9d88-2927f8696636",
   "metadata": {},
   "outputs": [
    {
     "data": {
      "text/plain": [
       "6"
      ]
     },
     "execution_count": 13,
     "metadata": {},
     "output_type": "execute_result"
    }
   ],
   "source": [
    "height = [0,1,0,2,1,0,1,3,2,1,2,1]\n",
    "water_trapped(height)"
   ]
  },
  {
   "cell_type": "code",
   "execution_count": 14,
   "id": "684fee76-cd0c-473e-abd5-1b4a68a99902",
   "metadata": {},
   "outputs": [
    {
     "data": {
      "text/plain": [
       "9"
      ]
     },
     "execution_count": 14,
     "metadata": {},
     "output_type": "execute_result"
    }
   ],
   "source": [
    "height = [4,2,0,3,2,5]\n",
    "water_trapped(height)"
   ]
  },
  {
   "cell_type": "code",
   "execution_count": null,
   "id": "2d506505-713a-4f37-815c-1da9fb903606",
   "metadata": {},
   "outputs": [],
   "source": []
  }
 ],
 "metadata": {
  "kernelspec": {
   "display_name": "Python 3 (ipykernel)",
   "language": "python",
   "name": "python3"
  },
  "language_info": {
   "codemirror_mode": {
    "name": "ipython",
    "version": 3
   },
   "file_extension": ".py",
   "mimetype": "text/x-python",
   "name": "python",
   "nbconvert_exporter": "python",
   "pygments_lexer": "ipython3",
   "version": "3.9.21"
  }
 },
 "nbformat": 4,
 "nbformat_minor": 5
}
